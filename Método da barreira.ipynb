{
 "cells": [
  {
   "cell_type": "code",
   "execution_count": 4,
   "id": "d2aa5ea7",
   "metadata": {},
   "outputs": [],
   "source": [
    "import matplotlib.pyplot as plt\n",
    "from mpl_toolkits import mplot3d \n",
    "import numpy\n",
    "import sympy\n",
    "from sympy.solvers import solve\n",
    "from sympy import diff\n",
    "from time import sleep\n",
    "from progressbar import progressbar\n",
    "from math import e as euler\n",
    "from math import log as ln\n",
    "\n",
    "MAX_ITERATION = 500\n",
    "MAX_ITERATION_QUASE_NEWTON = 5000\n",
    "MAX_ITERATIONITERATION_DICOTOMICA = 5000"
   ]
  },
  {
   "cell_type": "code",
   "execution_count": 5,
   "id": "02db2337",
   "metadata": {},
   "outputs": [],
   "source": [
    "def function(x):\n",
    "    return pow(x[0]-2, 4) + pow(x[0]-2*x[1], 2)"
   ]
  },
  {
   "cell_type": "code",
   "execution_count": 6,
   "id": "7cc5388e",
   "metadata": {},
   "outputs": [],
   "source": [
    "def grad_function(x, f, c):\n",
    "    if f == 1:\n",
    "        return [(4*pow(x[0]-2, 3) + 2*(x[0]-2*x[1]) + ((2*c*x[0])/pow(x[0]*x[0]-x[1], 2))), \n",
    "                (-c/pow(x[0]*x[0] - x[1], 2))  -4*(x[0]-2*x[1])]\n",
    "    if f == 2:\n",
    "        p_a = -4*pow(x[0], 5)\n",
    "        p_b = 24*pow(x[0], 4)\n",
    "        p_c = 4*x[0]*x[0]*x[0]*x[1]\n",
    "        p_d = -50*pow(x[0], 3)\n",
    "        p_e = -20*x[0]*x[0]*x[1]\n",
    "        p_f = 50*x[0]*x[1]\n",
    "        p_g = 2*c*x[0]\n",
    "        p_h = -4*x[1]*x[1]\n",
    "        p_i = x[1]-x[0]*x[0]\n",
    "        p_p = ((p_a + p_b + p_c + p_d  +p_e + p_f + p_g + p_h) / p_i) - 32\n",
    "        return [p_p, 8*x[1]-(c/(x[1]-x[0]*x[0]))-4*x[0]]"
   ]
  },
  {
   "cell_type": "code",
   "execution_count": 7,
   "id": "d3554ca3",
   "metadata": {},
   "outputs": [],
   "source": [
    "#Passo 4\n",
    "def function_phi(x, f, c):\n",
    "    if f == 1:\n",
    "        c_b = -c / (x[0]*x[0]-x[1])\n",
    "    if f == 2: #(barreira de Frisch)\n",
    "        temp = x[0]*x[0]-x[1]\n",
    "        if temp > 0:\n",
    "            temp = -temp\n",
    "        c_b = -c * ln(-(temp))\n",
    "    phi = function(x) + c_b\n",
    "    return phi"
   ]
  },
  {
   "cell_type": "code",
   "execution_count": 8,
   "id": "799b0acb",
   "metadata": {},
   "outputs": [],
   "source": [
    "def busca_dicotomica(a_min, a_max, e, f, x_i, d_i, c):\n",
    "    for k in range(MAX_ITERATIONITERATION_DICOTOMICA):\n",
    "        if abs(a_max/a_min) < 1 + e*10 and k > 5:\n",
    "                break\n",
    "                \n",
    "        lambda_k = ((a_min+a_max)/2)-e\n",
    "        lambda_x = [x_i[j] + d_i[j] * lambda_k for j in range(len(x_i))]\n",
    "        f_lambda = function_phi(lambda_x, f, c)\n",
    "        \n",
    "        mi_k = ((a_min+a_max)/2)+e\n",
    "        mi_x = [x_i[j] + d_i[j] * mi_k for j in range(len(x_i))]\n",
    "        f_mi = function_phi(mi_x, f, c)\n",
    "            \n",
    "        if f_lambda < f_mi:\n",
    "            a_max = mi_k\n",
    "        else:\n",
    "            a_min = lambda_k\n",
    "    return (a_min+a_max)/2"
   ]
  },
  {
   "cell_type": "code",
   "execution_count": 9,
   "id": "ed092fc9",
   "metadata": {},
   "outputs": [],
   "source": [
    "def DFP(input_D_i, input_s_i, input_y_i):\n",
    "    s_i = numpy.array([[i] for i in input_s_i])\n",
    "    y_i = numpy.array([[i] for i in input_y_i])\n",
    "    D_i = numpy.array(input_D_i)\n",
    "    p1 = numpy.true_divide(s_i.dot(s_i.transpose()), s_i.transpose().dot(y_i))\n",
    "    div_p2 = y_i.transpose().dot(D_i).dot(y_i)\n",
    "    nom_p2 = D_i.dot(y_i).dot(y_i.transpose()).dot(D_i)\n",
    "    p2 = numpy.true_divide(nom_p2, div_p2)\n",
    "    return D_i + p1 - p2"
   ]
  },
  {
   "cell_type": "code",
   "execution_count": 10,
   "id": "64e7683e",
   "metadata": {},
   "outputs": [],
   "source": [
    "def metodo_quase_newton(x_i, e, f, c):\n",
    "    #Passo 3\n",
    "    D_i = numpy.identity(len(x_i))\n",
    "    for i in range(MAX_ITERATION_QUASE_NEWTON):\n",
    "        \n",
    "        #Passo 1\n",
    "        gradiente = grad_function(x_i, f, c)\n",
    "        #print(f\"gradiente = {gradiente}\")\n",
    "        \n",
    "        #Passo 4\n",
    "        d_i = -D_i.dot(gradiente)\n",
    "        #print(f\"d_i = {d_i}\")\n",
    "        \n",
    "        #Passo 5\n",
    "        alpha = busca_dicotomica(0.1, 1, e/100, f, x_i, d_i, c)\n",
    "        #print(f\"alpha = {alpha}\")\n",
    "\n",
    "        #Passo 6\n",
    "        antigo_x_i = x_i\n",
    "        x_i = [x_i[k] + alpha*d_i[k] for k in range(len(x_i))]\n",
    "        #print(f\"i = {i}, x_i = {x_i}, alpha = {alpha}, d_i = {d_i}\")\n",
    "        \n",
    "        antigo_gradiente = gradiente\n",
    "        gradiente = grad_function(x_i, f, c)\n",
    "        #print(f\"novo_gradiente = {gradiente}\")\n",
    "        \n",
    "        #Passo 7\n",
    "        convergiu = True\n",
    "        for k in range(len(x_i)):\n",
    "            if abs(antigo_x_i[k] - x_i[k]) > e:\n",
    "                convergiu = False\n",
    "        if convergiu:\n",
    "            break\n",
    "            \n",
    "        #Passo 8\n",
    "        s_i = [x_i[k] - antigo_x_i[k] for k in range(len(x_i))]\n",
    "        y_i = [gradiente[k] - antigo_gradiente[k] for k in range(len(gradiente))]\n",
    "        #print(f\"s_i = {s_i}\")\n",
    "        #print(f\"y_i = {y_i}\")\n",
    "        \n",
    "        #Passo 9\n",
    "        np_s_i = numpy.array(s_i)\n",
    "        np_y_i = numpy.array(y_i)\n",
    "        result = numpy.dot(np_s_i.transpose(), np_y_i)\n",
    "        \n",
    "        #Passo 9\n",
    "        if result < 0:\n",
    "            D_i = numpy.identity(len(x_i))\n",
    "        \n",
    "        #Passo 10\n",
    "        if result >= 0:\n",
    "            D_i = DFP(D_i, np_s_i, np_y_i)\n",
    "        \n",
    "        #print(f\"D_i+1 = {D_i}\")\n",
    "        #print(f\"result = {result}\") \n",
    "    #print(x_i)\n",
    "    return x_i"
   ]
  },
  {
   "cell_type": "code",
   "execution_count": 11,
   "id": "90561181",
   "metadata": {},
   "outputs": [],
   "source": [
    "def metodo_das_barreiras(x_i, e, f, c_0, inc_c_0):\n",
    "    for i in progressbar(range(MAX_ITERATION)):\n",
    "        #Passo 5\n",
    "        antigo_x_i = x_i\n",
    "        x_i = metodo_quase_newton(x_i, e, f, c_0)\n",
    "            \n",
    "        #Passo 6 \n",
    "        convergiu = True\n",
    "        for k in range(len(x_i)):\n",
    "            if abs(antigo_x_i[k] - x_i[k]) > e/100:\n",
    "                convergiu = False\n",
    "        if convergiu:\n",
    "            print(f\"Numero de iterações foi o suficiente para convergir\")\n",
    "            break\n",
    "            \n",
    "        #Passo 7\n",
    "        c_0 = c_0/inc_c_0\n",
    "    return x_i"
   ]
  },
  {
   "cell_type": "code",
   "execution_count": 14,
   "id": "fc6e1fe7",
   "metadata": {},
   "outputs": [
    {
     "name": "stderr",
     "output_type": "stream",
     "text": [
      "100% (500 of 500) |######################| Elapsed Time: 0:00:06 Time:  0:00:06\n"
     ]
    },
    {
     "name": "stdout",
     "output_type": "stream",
     "text": [
      "\n",
      "Função 1 - Valor cálculado pelo método das penalidades (com barreira clássica): [1.9810076535327212, 0.9905052633063269]\n",
      "Valor otimizado : [(2, 1)]\n"
     ]
    }
   ],
   "source": [
    "x, y = sympy.symbols(\"x y\")\n",
    "f1 = (x-2)**4 + (x-2*y)**2\n",
    "\n",
    "mdb = metodo_das_barreiras([1, 2], 0.0001, 1, 10, 10)\n",
    "sp = solve([f1.diff(x), f1.diff(y)], [x, y])\n",
    "print(f\"\\nFunção 1 - Valor cálculado pelo método das penalidades (com barreira clássica): {mdb}\\nValor otimizado : {sp}\")"
   ]
  },
  {
   "cell_type": "code",
   "execution_count": 13,
   "id": "d1e342a0",
   "metadata": {},
   "outputs": [
    {
     "name": "stderr",
     "output_type": "stream",
     "text": [
      "100% (500 of 500) |######################| Elapsed Time: 0:00:07 Time:  0:00:07\n"
     ]
    },
    {
     "name": "stdout",
     "output_type": "stream",
     "text": [
      "\n",
      "Função 1 - Valor cálculado pelo método das penalidades (com barreira Frisch): [2.0242513076343753, 1.0121227446005903]\n",
      "Valor otimizado : []\n"
     ]
    }
   ],
   "source": [
    "mdb = metodo_das_barreiras([1, 2], 0.0001, 2, 10, 10)\n",
    "print(f\"\\nFunção 1 - Valor cálculado pelo método das penalidades (com barreira Frisch): {mdb}\\nValor otimizado : {sp}\")"
   ]
  },
  {
   "cell_type": "code",
   "execution_count": null,
   "id": "c9803e77",
   "metadata": {},
   "outputs": [],
   "source": []
  }
 ],
 "metadata": {
  "kernelspec": {
   "display_name": "Python 3 (ipykernel)",
   "language": "python",
   "name": "python3"
  },
  "language_info": {
   "codemirror_mode": {
    "name": "ipython",
    "version": 3
   },
   "file_extension": ".py",
   "mimetype": "text/x-python",
   "name": "python",
   "nbconvert_exporter": "python",
   "pygments_lexer": "ipython3",
   "version": "3.9.7"
  }
 },
 "nbformat": 4,
 "nbformat_minor": 5
}
